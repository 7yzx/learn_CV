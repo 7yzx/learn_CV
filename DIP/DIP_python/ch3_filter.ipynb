{
 "cells": [
  {
   "cell_type": "markdown",
   "metadata": {},
   "source": [
    "## 数字图像处理 第3章 图像滤波\n",
    "### 3.1 图像滤波基础\n",
    "#### 3.1.1 图像滤波概念\n",
    "图像滤波，指在尽量保留图像细节特征的条件下对目标图像的噪声进行抑制，是图像预处理中不可缺少的操作，其处理效果的好坏将直接影响到后续图像处理和分析的有效性和可靠性。\n",
    "\n",
    "#### 3.1.2 图像滤波分类\n",
    "根据滤波器的不同，图像滤波可以分为线性滤波和非线性滤波两大类。\n",
    "\n",
    "### 3.2 线性滤波\n",
    "#### 3.2.1 线性滤波原理\n",
    "线性滤波器是指滤波器的输出是输入的加权和，即：\n",
    "$$\n",
    "g(x,y) = \\sum_{i=0}^{M-1} \\sum_{j=0}^{N-1} f(x,y) * h(i,j)\n",
    "$$\n",
    "其中，$f(x,y)$ 是输入图像，$h(i,j)$ 是滤波器，$g(x,y)$ 是输出图像。\n",
    "\n",
    "\n"
   ]
  },
  {
   "cell_type": "markdown",
   "metadata": {},
   "source": [
    "\n",
    "#### 3.2.2 均值滤波\n",
    "均值滤波器是最简单的线性滤波器，其输出是输入的平均值。均值滤波器可以有效地去除图像中的噪声，但是会模糊图像的细节。\n",
    "均值滤波通过用周围像素的平均值替换中心像素来平滑图像。这有助于去除噪声。\n",
    "\n"
   ]
  },
  {
   "cell_type": "code",
   "execution_count": 6,
   "metadata": {},
   "outputs": [],
   "source": [
    "import cv2\n",
    "import numpy as np\n",
    "import matplotlib.pyplot as plt\n",
    "from PIL import Image\n",
    "import time\n",
    "import os\n",
    "def read_image(image_path):\n",
    "    image = np.array(Image.open(image_path))\n",
    "    return image\n",
    "\n",
    "def show_images(imgs,titles):\n",
    "    for i in range(0,len(imgs)):\n",
    "        plt.subplot(1, len(imgs), i+1)\n",
    "        plt.imshow(imgs[i])\n",
    "        plt.title(titles[i])\n",
    "        plt.axis('off')\n",
    "    plt.tight_layout()\n",
    "    plt.show()"
   ]
  },
  {
   "cell_type": "code",
   "execution_count": 8,
   "metadata": {},
   "outputs": [],
   "source": [
    "img = read_image('../images/Lena.png')\n",
    "# plt.imshow(img)\n",
    "# plt.show()\n",
    "\n",
    "def mean_filter(img, size):\n",
    "    # 获取图像的尺寸\n",
    "    width,height = img.shape[:2]\n",
    "    padded_img = np.pad(img,((size//2,size//2),(size//2,size//2),(0,0)),mode='constant')\n",
    "    filtered_img = np.zeros_like(img)\n",
    "\n",
    "    for i in range(width):\n",
    "        for j in range(height):\n",
    "            filtered_img[i,j] = np.mean(padded_img[i:i+size,j:j+size])\n",
    "    return filtered_img\n",
    "\n",
    "\n",
    "filtered_img = mean_filter(img,3)\n",
    "# plt.imshow(filtered_img)\n",
    "# plt.show()\n",
    "imgs = [img,filtered_img]\n",
    "titles = ['oringal','filter']\n",
    "# show_images(imgs,titles)\n"
   ]
  },
  {
   "cell_type": "markdown",
   "metadata": {},
   "source": []
  },
  {
   "cell_type": "markdown",
   "metadata": {},
   "source": [
    "#### 3.2.3 双边滤波\n",
    "双边滤波是一种非线性滤波方法，它能够在平滑图像的同时保持边缘信息。\n",
    "与传统的高斯滤波不同，双边滤波考虑了两个因素：空间距离和像素值的差异。\n",
    "这使得它能够在平滑噪声的同时，保留图像中的重要边缘和细节。\n",
    "双边滤波的数学公式如下：\n",
    "$$\n",
    " BF[I]_p = 1/W_p * Σ_q∈S G_{σs}(||p-q||) G_{σr}(|I_p - I_q|) I_q\n",
    "$$\n",
    "\n",
    "\n",
    "\n"
   ]
  },
  {
   "cell_type": "code",
   "execution_count": null,
   "metadata": {},
   "outputs": [],
   "source": [
    "def bilateral_filter(img,d,sigma_color,sigma_space):\n",
    "    # 获取图像的尺寸\n",
    "    width,height = img.shape[:2]\n"
   ]
  }
 ],
 "metadata": {
  "kernelspec": {
   "display_name": "d2l",
   "language": "python",
   "name": "python3"
  },
  "language_info": {
   "codemirror_mode": {
    "name": "ipython",
    "version": 3
   },
   "file_extension": ".py",
   "mimetype": "text/x-python",
   "name": "python",
   "nbconvert_exporter": "python",
   "pygments_lexer": "ipython3",
   "version": "3.9.19"
  }
 },
 "nbformat": 4,
 "nbformat_minor": 2
}
